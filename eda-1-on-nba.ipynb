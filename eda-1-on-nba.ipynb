{
 "cells": [
  {
   "cell_type": "code",
   "execution_count": 1,
   "id": "92a9af49",
   "metadata": {
    "_cell_guid": "b1076dfc-b9ad-4769-8c92-a6c4dae69d19",
    "_uuid": "8f2839f25d086af736a60e9eeb907d3b93b6e0e5",
    "execution": {
     "iopub.execute_input": "2023-06-25T11:56:59.031895Z",
     "iopub.status.busy": "2023-06-25T11:56:59.031166Z",
     "iopub.status.idle": "2023-06-25T11:57:00.602668Z",
     "shell.execute_reply": "2023-06-25T11:57:00.601334Z"
    },
    "papermill": {
     "duration": 1.591665,
     "end_time": "2023-06-25T11:57:00.605736",
     "exception": false,
     "start_time": "2023-06-25T11:56:59.014071",
     "status": "completed"
    },
    "tags": []
   },
   "outputs": [],
   "source": [
    "import numpy as np\n",
    "import pandas as pd\n",
    "import matplotlib.pyplot as plt\n",
    "import seaborn as sns"
   ]
  },
  {
   "cell_type": "code",
   "execution_count": 2,
   "id": "e5607ac4",
   "metadata": {
    "execution": {
     "iopub.execute_input": "2023-06-25T11:57:00.632393Z",
     "iopub.status.busy": "2023-06-25T11:57:00.631762Z",
     "iopub.status.idle": "2023-06-25T11:57:00.853975Z",
     "shell.execute_reply": "2023-06-25T11:57:00.853062Z"
    },
    "papermill": {
     "duration": 0.238536,
     "end_time": "2023-06-25T11:57:00.856740",
     "exception": false,
     "start_time": "2023-06-25T11:57:00.618204",
     "status": "completed"
    },
    "tags": []
   },
   "outputs": [
    {
     "data": {
      "text/html": [
       "<div>\n",
       "<style scoped>\n",
       "    .dataframe tbody tr th:only-of-type {\n",
       "        vertical-align: middle;\n",
       "    }\n",
       "\n",
       "    .dataframe tbody tr th {\n",
       "        vertical-align: top;\n",
       "    }\n",
       "\n",
       "    .dataframe thead th {\n",
       "        text-align: right;\n",
       "    }\n",
       "</style>\n",
       "<table border=\"1\" class=\"dataframe\">\n",
       "  <thead>\n",
       "    <tr style=\"text-align: right;\">\n",
       "      <th></th>\n",
       "      <th>player_name</th>\n",
       "      <th>team_abbreviation</th>\n",
       "      <th>age</th>\n",
       "      <th>player_height</th>\n",
       "      <th>player_weight</th>\n",
       "      <th>college</th>\n",
       "      <th>country</th>\n",
       "      <th>draft_year</th>\n",
       "      <th>draft_round</th>\n",
       "      <th>draft_number</th>\n",
       "      <th>...</th>\n",
       "      <th>pts</th>\n",
       "      <th>reb</th>\n",
       "      <th>ast</th>\n",
       "      <th>net_rating</th>\n",
       "      <th>oreb_pct</th>\n",
       "      <th>dreb_pct</th>\n",
       "      <th>usg_pct</th>\n",
       "      <th>ts_pct</th>\n",
       "      <th>ast_pct</th>\n",
       "      <th>season</th>\n",
       "    </tr>\n",
       "  </thead>\n",
       "  <tbody>\n",
       "    <tr>\n",
       "      <th>0</th>\n",
       "      <td>Dennis Rodman</td>\n",
       "      <td>CHI</td>\n",
       "      <td>36.0</td>\n",
       "      <td>198.12</td>\n",
       "      <td>99.790240</td>\n",
       "      <td>Southeastern Oklahoma State</td>\n",
       "      <td>USA</td>\n",
       "      <td>1986</td>\n",
       "      <td>2</td>\n",
       "      <td>27</td>\n",
       "      <td>...</td>\n",
       "      <td>5.7</td>\n",
       "      <td>16.1</td>\n",
       "      <td>3.1</td>\n",
       "      <td>16.1</td>\n",
       "      <td>0.186</td>\n",
       "      <td>0.323</td>\n",
       "      <td>0.100</td>\n",
       "      <td>0.479</td>\n",
       "      <td>0.113</td>\n",
       "      <td>1996-97</td>\n",
       "    </tr>\n",
       "    <tr>\n",
       "      <th>1</th>\n",
       "      <td>Dwayne Schintzius</td>\n",
       "      <td>LAC</td>\n",
       "      <td>28.0</td>\n",
       "      <td>215.90</td>\n",
       "      <td>117.933920</td>\n",
       "      <td>Florida</td>\n",
       "      <td>USA</td>\n",
       "      <td>1990</td>\n",
       "      <td>1</td>\n",
       "      <td>24</td>\n",
       "      <td>...</td>\n",
       "      <td>2.3</td>\n",
       "      <td>1.5</td>\n",
       "      <td>0.3</td>\n",
       "      <td>12.3</td>\n",
       "      <td>0.078</td>\n",
       "      <td>0.151</td>\n",
       "      <td>0.175</td>\n",
       "      <td>0.430</td>\n",
       "      <td>0.048</td>\n",
       "      <td>1996-97</td>\n",
       "    </tr>\n",
       "    <tr>\n",
       "      <th>2</th>\n",
       "      <td>Earl Cureton</td>\n",
       "      <td>TOR</td>\n",
       "      <td>39.0</td>\n",
       "      <td>205.74</td>\n",
       "      <td>95.254320</td>\n",
       "      <td>Detroit Mercy</td>\n",
       "      <td>USA</td>\n",
       "      <td>1979</td>\n",
       "      <td>3</td>\n",
       "      <td>58</td>\n",
       "      <td>...</td>\n",
       "      <td>0.8</td>\n",
       "      <td>1.0</td>\n",
       "      <td>0.4</td>\n",
       "      <td>-2.1</td>\n",
       "      <td>0.105</td>\n",
       "      <td>0.102</td>\n",
       "      <td>0.103</td>\n",
       "      <td>0.376</td>\n",
       "      <td>0.148</td>\n",
       "      <td>1996-97</td>\n",
       "    </tr>\n",
       "    <tr>\n",
       "      <th>3</th>\n",
       "      <td>Ed O'Bannon</td>\n",
       "      <td>DAL</td>\n",
       "      <td>24.0</td>\n",
       "      <td>203.20</td>\n",
       "      <td>100.697424</td>\n",
       "      <td>UCLA</td>\n",
       "      <td>USA</td>\n",
       "      <td>1995</td>\n",
       "      <td>1</td>\n",
       "      <td>9</td>\n",
       "      <td>...</td>\n",
       "      <td>3.7</td>\n",
       "      <td>2.3</td>\n",
       "      <td>0.6</td>\n",
       "      <td>-8.7</td>\n",
       "      <td>0.060</td>\n",
       "      <td>0.149</td>\n",
       "      <td>0.167</td>\n",
       "      <td>0.399</td>\n",
       "      <td>0.077</td>\n",
       "      <td>1996-97</td>\n",
       "    </tr>\n",
       "    <tr>\n",
       "      <th>4</th>\n",
       "      <td>Ed Pinckney</td>\n",
       "      <td>MIA</td>\n",
       "      <td>34.0</td>\n",
       "      <td>205.74</td>\n",
       "      <td>108.862080</td>\n",
       "      <td>Villanova</td>\n",
       "      <td>USA</td>\n",
       "      <td>1985</td>\n",
       "      <td>1</td>\n",
       "      <td>10</td>\n",
       "      <td>...</td>\n",
       "      <td>2.4</td>\n",
       "      <td>2.4</td>\n",
       "      <td>0.2</td>\n",
       "      <td>-11.2</td>\n",
       "      <td>0.109</td>\n",
       "      <td>0.179</td>\n",
       "      <td>0.127</td>\n",
       "      <td>0.611</td>\n",
       "      <td>0.040</td>\n",
       "      <td>1996-97</td>\n",
       "    </tr>\n",
       "  </tbody>\n",
       "</table>\n",
       "<p>5 rows × 21 columns</p>\n",
       "</div>"
      ],
      "text/plain": [
       "         player_name team_abbreviation   age  player_height  player_weight  \\\n",
       "0      Dennis Rodman               CHI  36.0         198.12      99.790240   \n",
       "1  Dwayne Schintzius               LAC  28.0         215.90     117.933920   \n",
       "2       Earl Cureton               TOR  39.0         205.74      95.254320   \n",
       "3        Ed O'Bannon               DAL  24.0         203.20     100.697424   \n",
       "4        Ed Pinckney               MIA  34.0         205.74     108.862080   \n",
       "\n",
       "                       college country draft_year draft_round draft_number  \\\n",
       "0  Southeastern Oklahoma State     USA       1986           2           27   \n",
       "1                      Florida     USA       1990           1           24   \n",
       "2                Detroit Mercy     USA       1979           3           58   \n",
       "3                         UCLA     USA       1995           1            9   \n",
       "4                    Villanova     USA       1985           1           10   \n",
       "\n",
       "   ...  pts   reb  ast  net_rating  oreb_pct  dreb_pct  usg_pct  ts_pct  \\\n",
       "0  ...  5.7  16.1  3.1        16.1     0.186     0.323    0.100   0.479   \n",
       "1  ...  2.3   1.5  0.3        12.3     0.078     0.151    0.175   0.430   \n",
       "2  ...  0.8   1.0  0.4        -2.1     0.105     0.102    0.103   0.376   \n",
       "3  ...  3.7   2.3  0.6        -8.7     0.060     0.149    0.167   0.399   \n",
       "4  ...  2.4   2.4  0.2       -11.2     0.109     0.179    0.127   0.611   \n",
       "\n",
       "   ast_pct   season  \n",
       "0    0.113  1996-97  \n",
       "1    0.048  1996-97  \n",
       "2    0.148  1996-97  \n",
       "3    0.077  1996-97  \n",
       "4    0.040  1996-97  \n",
       "\n",
       "[5 rows x 21 columns]"
      ]
     },
     "execution_count": 2,
     "metadata": {},
     "output_type": "execute_result"
    }
   ],
   "source": [
    "df = pd.read_csv('/kaggle/input/nba-players-data/all_seasons.csv' , index_col = 'Unnamed: 0')\n",
    "df.head()"
   ]
  },
  {
   "cell_type": "code",
   "execution_count": 3,
   "id": "796785e6",
   "metadata": {
    "execution": {
     "iopub.execute_input": "2023-06-25T11:57:00.883176Z",
     "iopub.status.busy": "2023-06-25T11:57:00.882560Z",
     "iopub.status.idle": "2023-06-25T11:57:00.935922Z",
     "shell.execute_reply": "2023-06-25T11:57:00.934119Z"
    },
    "papermill": {
     "duration": 0.069757,
     "end_time": "2023-06-25T11:57:00.938735",
     "exception": false,
     "start_time": "2023-06-25T11:57:00.868978",
     "status": "completed"
    },
    "tags": []
   },
   "outputs": [
    {
     "name": "stdout",
     "output_type": "stream",
     "text": [
      "<class 'pandas.core.frame.DataFrame'>\n",
      "Int64Index: 12305 entries, 0 to 12304\n",
      "Data columns (total 21 columns):\n",
      " #   Column             Non-Null Count  Dtype  \n",
      "---  ------             --------------  -----  \n",
      " 0   player_name        12305 non-null  object \n",
      " 1   team_abbreviation  12305 non-null  object \n",
      " 2   age                12305 non-null  float64\n",
      " 3   player_height      12305 non-null  float64\n",
      " 4   player_weight      12305 non-null  float64\n",
      " 5   college            12305 non-null  object \n",
      " 6   country            12305 non-null  object \n",
      " 7   draft_year         12305 non-null  object \n",
      " 8   draft_round        12305 non-null  object \n",
      " 9   draft_number       12305 non-null  object \n",
      " 10  gp                 12305 non-null  int64  \n",
      " 11  pts                12305 non-null  float64\n",
      " 12  reb                12305 non-null  float64\n",
      " 13  ast                12305 non-null  float64\n",
      " 14  net_rating         12305 non-null  float64\n",
      " 15  oreb_pct           12305 non-null  float64\n",
      " 16  dreb_pct           12305 non-null  float64\n",
      " 17  usg_pct            12305 non-null  float64\n",
      " 18  ts_pct             12305 non-null  float64\n",
      " 19  ast_pct            12305 non-null  float64\n",
      " 20  season             12305 non-null  object \n",
      "dtypes: float64(12), int64(1), object(8)\n",
      "memory usage: 2.1+ MB\n"
     ]
    }
   ],
   "source": [
    "df.info()"
   ]
  },
  {
   "cell_type": "code",
   "execution_count": 4,
   "id": "bad3c467",
   "metadata": {
    "execution": {
     "iopub.execute_input": "2023-06-25T11:57:00.965532Z",
     "iopub.status.busy": "2023-06-25T11:57:00.964838Z",
     "iopub.status.idle": "2023-06-25T11:57:00.972350Z",
     "shell.execute_reply": "2023-06-25T11:57:00.971156Z"
    },
    "papermill": {
     "duration": 0.02382,
     "end_time": "2023-06-25T11:57:00.974832",
     "exception": false,
     "start_time": "2023-06-25T11:57:00.951012",
     "status": "completed"
    },
    "tags": []
   },
   "outputs": [
    {
     "data": {
      "text/plain": [
       "Index(['player_name', 'team_abbreviation', 'age', 'player_height',\n",
       "       'player_weight', 'college', 'country', 'draft_year', 'draft_round',\n",
       "       'draft_number', 'gp', 'pts', 'reb', 'ast', 'net_rating', 'oreb_pct',\n",
       "       'dreb_pct', 'usg_pct', 'ts_pct', 'ast_pct', 'season'],\n",
       "      dtype='object')"
      ]
     },
     "execution_count": 4,
     "metadata": {},
     "output_type": "execute_result"
    }
   ],
   "source": [
    "df.columns"
   ]
  },
  {
   "cell_type": "code",
   "execution_count": 5,
   "id": "0df05b4d",
   "metadata": {
    "execution": {
     "iopub.execute_input": "2023-06-25T11:57:01.001861Z",
     "iopub.status.busy": "2023-06-25T11:57:01.001469Z",
     "iopub.status.idle": "2023-06-25T11:57:01.010162Z",
     "shell.execute_reply": "2023-06-25T11:57:01.009027Z"
    },
    "papermill": {
     "duration": 0.025438,
     "end_time": "2023-06-25T11:57:01.012615",
     "exception": false,
     "start_time": "2023-06-25T11:57:00.987177",
     "status": "completed"
    },
    "tags": []
   },
   "outputs": [
    {
     "data": {
      "text/plain": [
       "array(['Dennis Rodman', 'Dwayne Schintzius', 'Earl Cureton', ...,\n",
       "       'Marko Simonovic', 'Marcus Garrett', 'Micah Potter'], dtype=object)"
      ]
     },
     "execution_count": 5,
     "metadata": {},
     "output_type": "execute_result"
    }
   ],
   "source": [
    "df['player_name'].unique()"
   ]
  },
  {
   "cell_type": "code",
   "execution_count": 6,
   "id": "c1dc7440",
   "metadata": {
    "execution": {
     "iopub.execute_input": "2023-06-25T11:57:01.040278Z",
     "iopub.status.busy": "2023-06-25T11:57:01.038787Z",
     "iopub.status.idle": "2023-06-25T11:57:01.051663Z",
     "shell.execute_reply": "2023-06-25T11:57:01.050295Z"
    },
    "papermill": {
     "duration": 0.02925,
     "end_time": "2023-06-25T11:57:01.054284",
     "exception": false,
     "start_time": "2023-06-25T11:57:01.025034",
     "status": "completed"
    },
    "tags": []
   },
   "outputs": [
    {
     "name": "stdout",
     "output_type": "stream",
     "text": [
      "<class 'pandas.core.series.Series'>\n",
      "Int64Index: 12305 entries, 0 to 12304\n",
      "Series name: season\n",
      "Non-Null Count  Dtype \n",
      "--------------  ----- \n",
      "12305 non-null  object\n",
      "dtypes: object(1)\n",
      "memory usage: 192.3+ KB\n"
     ]
    }
   ],
   "source": [
    "df['season'].info()"
   ]
  },
  {
   "cell_type": "code",
   "execution_count": 7,
   "id": "06664cb2",
   "metadata": {
    "execution": {
     "iopub.execute_input": "2023-06-25T11:57:01.081295Z",
     "iopub.status.busy": "2023-06-25T11:57:01.080916Z",
     "iopub.status.idle": "2023-06-25T11:57:01.096100Z",
     "shell.execute_reply": "2023-06-25T11:57:01.094948Z"
    },
    "papermill": {
     "duration": 0.031966,
     "end_time": "2023-06-25T11:57:01.098903",
     "exception": false,
     "start_time": "2023-06-25T11:57:01.066937",
     "status": "completed"
    },
    "tags": []
   },
   "outputs": [],
   "source": [
    "top_scorer = pd.DataFrame(df.groupby('player_name')['net_rating'].mean().sort_values(ascending = False)[0:10])"
   ]
  },
  {
   "cell_type": "markdown",
   "id": "77452663",
   "metadata": {
    "papermill": {
     "duration": 0.01326,
     "end_time": "2023-06-25T11:57:01.126064",
     "exception": false,
     "start_time": "2023-06-25T11:57:01.112804",
     "status": "completed"
    },
    "tags": []
   },
   "source": []
  },
  {
   "cell_type": "markdown",
   "id": "6b772ad6",
   "metadata": {
    "papermill": {
     "duration": 0.012521,
     "end_time": "2023-06-25T11:57:01.151939",
     "exception": false,
     "start_time": "2023-06-25T11:57:01.139418",
     "status": "completed"
    },
    "tags": []
   },
   "source": [
    "****this are the top 10 rated player of nba history till now****"
   ]
  },
  {
   "cell_type": "code",
   "execution_count": 8,
   "id": "c1a9e582",
   "metadata": {
    "execution": {
     "iopub.execute_input": "2023-06-25T11:57:01.179977Z",
     "iopub.status.busy": "2023-06-25T11:57:01.178793Z",
     "iopub.status.idle": "2023-06-25T11:57:01.191331Z",
     "shell.execute_reply": "2023-06-25T11:57:01.189892Z"
    },
    "papermill": {
     "duration": 0.029287,
     "end_time": "2023-06-25T11:57:01.194095",
     "exception": false,
     "start_time": "2023-06-25T11:57:01.164808",
     "status": "completed"
    },
    "tags": []
   },
   "outputs": [
    {
     "data": {
      "text/html": [
       "<div>\n",
       "<style scoped>\n",
       "    .dataframe tbody tr th:only-of-type {\n",
       "        vertical-align: middle;\n",
       "    }\n",
       "\n",
       "    .dataframe tbody tr th {\n",
       "        vertical-align: top;\n",
       "    }\n",
       "\n",
       "    .dataframe thead th {\n",
       "        text-align: right;\n",
       "    }\n",
       "</style>\n",
       "<table border=\"1\" class=\"dataframe\">\n",
       "  <thead>\n",
       "    <tr style=\"text-align: right;\">\n",
       "      <th></th>\n",
       "      <th>net_rating</th>\n",
       "    </tr>\n",
       "    <tr>\n",
       "      <th>player_name</th>\n",
       "      <th></th>\n",
       "    </tr>\n",
       "  </thead>\n",
       "  <tbody>\n",
       "    <tr>\n",
       "      <th>Ahmad Caver</th>\n",
       "      <td>133.3</td>\n",
       "    </tr>\n",
       "    <tr>\n",
       "      <th>Jerrelle Benimon</th>\n",
       "      <td>120.0</td>\n",
       "    </tr>\n",
       "    <tr>\n",
       "      <th>DeJon Jarreau</th>\n",
       "      <td>100.0</td>\n",
       "    </tr>\n",
       "    <tr>\n",
       "      <th>Naz Mitrou-Long</th>\n",
       "      <td>83.0</td>\n",
       "    </tr>\n",
       "    <tr>\n",
       "      <th>Steven Hill</th>\n",
       "      <td>79.0</td>\n",
       "    </tr>\n",
       "    <tr>\n",
       "      <th>J.P. Macura</th>\n",
       "      <td>73.9</td>\n",
       "    </tr>\n",
       "    <tr>\n",
       "      <th>Matt Williams Jr.</th>\n",
       "      <td>66.7</td>\n",
       "    </tr>\n",
       "    <tr>\n",
       "      <th>Tahjere McCall</th>\n",
       "      <td>63.9</td>\n",
       "    </tr>\n",
       "    <tr>\n",
       "      <th>Tyson Wheeler</th>\n",
       "      <td>62.2</td>\n",
       "    </tr>\n",
       "    <tr>\n",
       "      <th>Javin DeLaurier</th>\n",
       "      <td>57.1</td>\n",
       "    </tr>\n",
       "  </tbody>\n",
       "</table>\n",
       "</div>"
      ],
      "text/plain": [
       "                   net_rating\n",
       "player_name                  \n",
       "Ahmad Caver             133.3\n",
       "Jerrelle Benimon        120.0\n",
       "DeJon Jarreau           100.0\n",
       "Naz Mitrou-Long          83.0\n",
       "Steven Hill              79.0\n",
       "J.P. Macura              73.9\n",
       "Matt Williams Jr.        66.7\n",
       "Tahjere McCall           63.9\n",
       "Tyson Wheeler            62.2\n",
       "Javin DeLaurier          57.1"
      ]
     },
     "execution_count": 8,
     "metadata": {},
     "output_type": "execute_result"
    }
   ],
   "source": [
    "top_scorer"
   ]
  },
  {
   "cell_type": "code",
   "execution_count": 9,
   "id": "dd87efaa",
   "metadata": {
    "execution": {
     "iopub.execute_input": "2023-06-25T11:57:01.223460Z",
     "iopub.status.busy": "2023-06-25T11:57:01.222548Z",
     "iopub.status.idle": "2023-06-25T11:57:01.229919Z",
     "shell.execute_reply": "2023-06-25T11:57:01.228923Z"
    },
    "papermill": {
     "duration": 0.024045,
     "end_time": "2023-06-25T11:57:01.232195",
     "exception": false,
     "start_time": "2023-06-25T11:57:01.208150",
     "status": "completed"
    },
    "tags": []
   },
   "outputs": [
    {
     "data": {
      "text/plain": [
       "Index(['player_name', 'team_abbreviation', 'age', 'player_height',\n",
       "       'player_weight', 'college', 'country', 'draft_year', 'draft_round',\n",
       "       'draft_number', 'gp', 'pts', 'reb', 'ast', 'net_rating', 'oreb_pct',\n",
       "       'dreb_pct', 'usg_pct', 'ts_pct', 'ast_pct', 'season'],\n",
       "      dtype='object')"
      ]
     },
     "execution_count": 9,
     "metadata": {},
     "output_type": "execute_result"
    }
   ],
   "source": [
    "df.columns"
   ]
  },
  {
   "cell_type": "markdown",
   "id": "eed1bd62",
   "metadata": {
    "papermill": {
     "duration": 0.012688,
     "end_time": "2023-06-25T11:57:01.258314",
     "exception": false,
     "start_time": "2023-06-25T11:57:01.245626",
     "status": "completed"
    },
    "tags": []
   },
   "source": [
    "****the change in trade for player_height in the years concern**** "
   ]
  },
  {
   "cell_type": "code",
   "execution_count": 10,
   "id": "7c1bb156",
   "metadata": {
    "execution": {
     "iopub.execute_input": "2023-06-25T11:57:01.286704Z",
     "iopub.status.busy": "2023-06-25T11:57:01.285608Z",
     "iopub.status.idle": "2023-06-25T11:57:01.295619Z",
     "shell.execute_reply": "2023-06-25T11:57:01.294354Z"
    },
    "papermill": {
     "duration": 0.027458,
     "end_time": "2023-06-25T11:57:01.298779",
     "exception": false,
     "start_time": "2023-06-25T11:57:01.271321",
     "status": "completed"
    },
    "tags": []
   },
   "outputs": [],
   "source": [
    "height_data = pd.DataFrame(df.groupby('season')['player_height'].mean().reset_index())"
   ]
  },
  {
   "cell_type": "code",
   "execution_count": 11,
   "id": "2a9931f6",
   "metadata": {
    "execution": {
     "iopub.execute_input": "2023-06-25T11:57:01.327329Z",
     "iopub.status.busy": "2023-06-25T11:57:01.326931Z",
     "iopub.status.idle": "2023-06-25T11:57:01.340051Z",
     "shell.execute_reply": "2023-06-25T11:57:01.338776Z"
    },
    "papermill": {
     "duration": 0.0304,
     "end_time": "2023-06-25T11:57:01.342325",
     "exception": false,
     "start_time": "2023-06-25T11:57:01.311925",
     "status": "completed"
    },
    "tags": []
   },
   "outputs": [
    {
     "data": {
      "text/html": [
       "<div>\n",
       "<style scoped>\n",
       "    .dataframe tbody tr th:only-of-type {\n",
       "        vertical-align: middle;\n",
       "    }\n",
       "\n",
       "    .dataframe tbody tr th {\n",
       "        vertical-align: top;\n",
       "    }\n",
       "\n",
       "    .dataframe thead th {\n",
       "        text-align: right;\n",
       "    }\n",
       "</style>\n",
       "<table border=\"1\" class=\"dataframe\">\n",
       "  <thead>\n",
       "    <tr style=\"text-align: right;\">\n",
       "      <th></th>\n",
       "      <th>season</th>\n",
       "      <th>player_height</th>\n",
       "    </tr>\n",
       "  </thead>\n",
       "  <tbody>\n",
       "    <tr>\n",
       "      <th>0</th>\n",
       "      <td>1996-97</td>\n",
       "      <td>200.994830</td>\n",
       "    </tr>\n",
       "    <tr>\n",
       "      <th>1</th>\n",
       "      <td>1997-98</td>\n",
       "      <td>200.619499</td>\n",
       "    </tr>\n",
       "    <tr>\n",
       "      <th>2</th>\n",
       "      <td>1998-99</td>\n",
       "      <td>200.903007</td>\n",
       "    </tr>\n",
       "    <tr>\n",
       "      <th>3</th>\n",
       "      <td>1999-00</td>\n",
       "      <td>200.920959</td>\n",
       "    </tr>\n",
       "    <tr>\n",
       "      <th>4</th>\n",
       "      <td>2000-01</td>\n",
       "      <td>200.752154</td>\n",
       "    </tr>\n",
       "    <tr>\n",
       "      <th>5</th>\n",
       "      <td>2001-02</td>\n",
       "      <td>201.017909</td>\n",
       "    </tr>\n",
       "    <tr>\n",
       "      <th>6</th>\n",
       "      <td>2002-03</td>\n",
       "      <td>201.520514</td>\n",
       "    </tr>\n",
       "    <tr>\n",
       "      <th>7</th>\n",
       "      <td>2003-04</td>\n",
       "      <td>201.315113</td>\n",
       "    </tr>\n",
       "    <tr>\n",
       "      <th>8</th>\n",
       "      <td>2004-05</td>\n",
       "      <td>201.245733</td>\n",
       "    </tr>\n",
       "    <tr>\n",
       "      <th>9</th>\n",
       "      <td>2005-06</td>\n",
       "      <td>200.920655</td>\n",
       "    </tr>\n",
       "    <tr>\n",
       "      <th>10</th>\n",
       "      <td>2006-07</td>\n",
       "      <td>200.704367</td>\n",
       "    </tr>\n",
       "    <tr>\n",
       "      <th>11</th>\n",
       "      <td>2007-08</td>\n",
       "      <td>200.851486</td>\n",
       "    </tr>\n",
       "    <tr>\n",
       "      <th>12</th>\n",
       "      <td>2008-09</td>\n",
       "      <td>201.196539</td>\n",
       "    </tr>\n",
       "    <tr>\n",
       "      <th>13</th>\n",
       "      <td>2009-10</td>\n",
       "      <td>200.873394</td>\n",
       "    </tr>\n",
       "    <tr>\n",
       "      <th>14</th>\n",
       "      <td>2010-11</td>\n",
       "      <td>201.217832</td>\n",
       "    </tr>\n",
       "    <tr>\n",
       "      <th>15</th>\n",
       "      <td>2011-12</td>\n",
       "      <td>200.832343</td>\n",
       "    </tr>\n",
       "    <tr>\n",
       "      <th>16</th>\n",
       "      <td>2012-13</td>\n",
       "      <td>200.769765</td>\n",
       "    </tr>\n",
       "    <tr>\n",
       "      <th>17</th>\n",
       "      <td>2013-14</td>\n",
       "      <td>200.772946</td>\n",
       "    </tr>\n",
       "    <tr>\n",
       "      <th>18</th>\n",
       "      <td>2014-15</td>\n",
       "      <td>200.838455</td>\n",
       "    </tr>\n",
       "    <tr>\n",
       "      <th>19</th>\n",
       "      <td>2015-16</td>\n",
       "      <td>200.949034</td>\n",
       "    </tr>\n",
       "    <tr>\n",
       "      <th>20</th>\n",
       "      <td>2016-17</td>\n",
       "      <td>200.916790</td>\n",
       "    </tr>\n",
       "    <tr>\n",
       "      <th>21</th>\n",
       "      <td>2017-18</td>\n",
       "      <td>200.457741</td>\n",
       "    </tr>\n",
       "    <tr>\n",
       "      <th>22</th>\n",
       "      <td>2018-19</td>\n",
       "      <td>200.535396</td>\n",
       "    </tr>\n",
       "    <tr>\n",
       "      <th>23</th>\n",
       "      <td>2019-20</td>\n",
       "      <td>198.941059</td>\n",
       "    </tr>\n",
       "    <tr>\n",
       "      <th>24</th>\n",
       "      <td>2020-21</td>\n",
       "      <td>198.914926</td>\n",
       "    </tr>\n",
       "    <tr>\n",
       "      <th>25</th>\n",
       "      <td>2021-22</td>\n",
       "      <td>198.350909</td>\n",
       "    </tr>\n",
       "  </tbody>\n",
       "</table>\n",
       "</div>"
      ],
      "text/plain": [
       "     season  player_height\n",
       "0   1996-97     200.994830\n",
       "1   1997-98     200.619499\n",
       "2   1998-99     200.903007\n",
       "3   1999-00     200.920959\n",
       "4   2000-01     200.752154\n",
       "5   2001-02     201.017909\n",
       "6   2002-03     201.520514\n",
       "7   2003-04     201.315113\n",
       "8   2004-05     201.245733\n",
       "9   2005-06     200.920655\n",
       "10  2006-07     200.704367\n",
       "11  2007-08     200.851486\n",
       "12  2008-09     201.196539\n",
       "13  2009-10     200.873394\n",
       "14  2010-11     201.217832\n",
       "15  2011-12     200.832343\n",
       "16  2012-13     200.769765\n",
       "17  2013-14     200.772946\n",
       "18  2014-15     200.838455\n",
       "19  2015-16     200.949034\n",
       "20  2016-17     200.916790\n",
       "21  2017-18     200.457741\n",
       "22  2018-19     200.535396\n",
       "23  2019-20     198.941059\n",
       "24  2020-21     198.914926\n",
       "25  2021-22     198.350909"
      ]
     },
     "execution_count": 11,
     "metadata": {},
     "output_type": "execute_result"
    }
   ],
   "source": [
    "height_data"
   ]
  },
  {
   "cell_type": "code",
   "execution_count": 12,
   "id": "c8e72b0b",
   "metadata": {
    "execution": {
     "iopub.execute_input": "2023-06-25T11:57:01.373002Z",
     "iopub.status.busy": "2023-06-25T11:57:01.371723Z",
     "iopub.status.idle": "2023-06-25T11:57:01.902909Z",
     "shell.execute_reply": "2023-06-25T11:57:01.901419Z"
    },
    "papermill": {
     "duration": 0.549697,
     "end_time": "2023-06-25T11:57:01.905660",
     "exception": false,
     "start_time": "2023-06-25T11:57:01.355963",
     "status": "completed"
    },
    "tags": []
   },
   "outputs": [
    {
     "data": {
      "image/png": "[encoded data removed]",
      "text/plain": [
       "<Figure size 1000x800 with 1 Axes>"
      ]
     },
     "metadata": {},
     "output_type": "display_data"
    }
   ],
   "source": [
    "plt.figure(figsize = (10,8) , dpi = 100)\n",
    "sns.scatterplot(data = height_data ,x = 'season' , y = 'player_height' )\n",
    "plt.xticks(rotation = 90);"
   ]
  },
  {
   "cell_type": "markdown",
   "id": "35eb33ce",
   "metadata": {
    "papermill": {
     "duration": 0.013605,
     "end_time": "2023-06-25T11:57:01.933702",
     "exception": false,
     "start_time": "2023-06-25T11:57:01.920097",
     "status": "completed"
    },
    "tags": []
   },
   "source": [
    "****insight of the above graph is the height is decreasing with increasing year****"
   ]
  },
  {
   "cell_type": "markdown",
   "id": "30c47723",
   "metadata": {
    "papermill": {
     "duration": 0.013555,
     "end_time": "2023-06-25T11:57:01.961276",
     "exception": false,
     "start_time": "2023-06-25T11:57:01.947721",
     "status": "completed"
    },
    "tags": []
   },
   "source": [
    "****the change in trade for player_weight in the years concern**** "
   ]
  },
  {
   "cell_type": "markdown",
   "id": "6c8e5197",
   "metadata": {
    "papermill": {
     "duration": 0.013916,
     "end_time": "2023-06-25T11:57:01.989640",
     "exception": false,
     "start_time": "2023-06-25T11:57:01.975724",
     "status": "completed"
    },
    "tags": []
   },
   "source": []
  },
  {
   "cell_type": "code",
   "execution_count": 13,
   "id": "d25f303c",
   "metadata": {
    "execution": {
     "iopub.execute_input": "2023-06-25T11:57:02.019944Z",
     "iopub.status.busy": "2023-06-25T11:57:02.019193Z",
     "iopub.status.idle": "2023-06-25T11:57:02.027221Z",
     "shell.execute_reply": "2023-06-25T11:57:02.026111Z"
    },
    "papermill": {
     "duration": 0.026125,
     "end_time": "2023-06-25T11:57:02.029736",
     "exception": false,
     "start_time": "2023-06-25T11:57:02.003611",
     "status": "completed"
    },
    "tags": []
   },
   "outputs": [],
   "source": [
    "weight_data = pd.DataFrame(df.groupby('season')['player_weight'].mean().reset_index())"
   ]
  },
  {
   "cell_type": "code",
   "execution_count": 14,
   "id": "383b0d82",
   "metadata": {
    "execution": {
     "iopub.execute_input": "2023-06-25T11:57:02.060723Z",
     "iopub.status.busy": "2023-06-25T11:57:02.059407Z",
     "iopub.status.idle": "2023-06-25T11:57:02.073921Z",
     "shell.execute_reply": "2023-06-25T11:57:02.072616Z"
    },
    "papermill": {
     "duration": 0.032297,
     "end_time": "2023-06-25T11:57:02.076244",
     "exception": false,
     "start_time": "2023-06-25T11:57:02.043947",
     "status": "completed"
    },
    "tags": []
   },
   "outputs": [
    {
     "data": {
      "text/html": [
       "<div>\n",
       "<style scoped>\n",
       "    .dataframe tbody tr th:only-of-type {\n",
       "        vertical-align: middle;\n",
       "    }\n",
       "\n",
       "    .dataframe tbody tr th {\n",
       "        vertical-align: top;\n",
       "    }\n",
       "\n",
       "    .dataframe thead th {\n",
       "        text-align: right;\n",
       "    }\n",
       "</style>\n",
       "<table border=\"1\" class=\"dataframe\">\n",
       "  <thead>\n",
       "    <tr style=\"text-align: right;\">\n",
       "      <th></th>\n",
       "      <th>season</th>\n",
       "      <th>player_weight</th>\n",
       "    </tr>\n",
       "  </thead>\n",
       "  <tbody>\n",
       "    <tr>\n",
       "      <th>0</th>\n",
       "      <td>1996-97</td>\n",
       "      <td>100.526270</td>\n",
       "    </tr>\n",
       "    <tr>\n",
       "      <th>1</th>\n",
       "      <td>1997-98</td>\n",
       "      <td>100.265530</td>\n",
       "    </tr>\n",
       "    <tr>\n",
       "      <th>2</th>\n",
       "      <td>1998-99</td>\n",
       "      <td>100.639563</td>\n",
       "    </tr>\n",
       "    <tr>\n",
       "      <th>3</th>\n",
       "      <td>1999-00</td>\n",
       "      <td>100.735741</td>\n",
       "    </tr>\n",
       "    <tr>\n",
       "      <th>4</th>\n",
       "      <td>2000-01</td>\n",
       "      <td>100.842450</td>\n",
       "    </tr>\n",
       "    <tr>\n",
       "      <th>5</th>\n",
       "      <td>2001-02</td>\n",
       "      <td>101.288124</td>\n",
       "    </tr>\n",
       "    <tr>\n",
       "      <th>6</th>\n",
       "      <td>2002-03</td>\n",
       "      <td>102.032765</td>\n",
       "    </tr>\n",
       "    <tr>\n",
       "      <th>7</th>\n",
       "      <td>2003-04</td>\n",
       "      <td>101.635395</td>\n",
       "    </tr>\n",
       "    <tr>\n",
       "      <th>8</th>\n",
       "      <td>2004-05</td>\n",
       "      <td>101.697477</td>\n",
       "    </tr>\n",
       "    <tr>\n",
       "      <th>9</th>\n",
       "      <td>2005-06</td>\n",
       "      <td>101.340178</td>\n",
       "    </tr>\n",
       "    <tr>\n",
       "      <th>10</th>\n",
       "      <td>2006-07</td>\n",
       "      <td>101.329284</td>\n",
       "    </tr>\n",
       "    <tr>\n",
       "      <th>11</th>\n",
       "      <td>2007-08</td>\n",
       "      <td>100.941821</td>\n",
       "    </tr>\n",
       "    <tr>\n",
       "      <th>12</th>\n",
       "      <td>2008-09</td>\n",
       "      <td>101.393611</td>\n",
       "    </tr>\n",
       "    <tr>\n",
       "      <th>13</th>\n",
       "      <td>2009-10</td>\n",
       "      <td>101.140341</td>\n",
       "    </tr>\n",
       "    <tr>\n",
       "      <th>14</th>\n",
       "      <td>2010-11</td>\n",
       "      <td>101.634022</td>\n",
       "    </tr>\n",
       "    <tr>\n",
       "      <th>15</th>\n",
       "      <td>2011-12</td>\n",
       "      <td>101.055087</td>\n",
       "    </tr>\n",
       "    <tr>\n",
       "      <th>16</th>\n",
       "      <td>2012-13</td>\n",
       "      <td>100.872778</td>\n",
       "    </tr>\n",
       "    <tr>\n",
       "      <th>17</th>\n",
       "      <td>2013-14</td>\n",
       "      <td>100.549591</td>\n",
       "    </tr>\n",
       "    <tr>\n",
       "      <th>18</th>\n",
       "      <td>2014-15</td>\n",
       "      <td>100.438213</td>\n",
       "    </tr>\n",
       "    <tr>\n",
       "      <th>19</th>\n",
       "      <td>2015-16</td>\n",
       "      <td>100.414022</td>\n",
       "    </tr>\n",
       "    <tr>\n",
       "      <th>20</th>\n",
       "      <td>2016-17</td>\n",
       "      <td>99.830930</td>\n",
       "    </tr>\n",
       "    <tr>\n",
       "      <th>21</th>\n",
       "      <td>2017-18</td>\n",
       "      <td>98.811657</td>\n",
       "    </tr>\n",
       "    <tr>\n",
       "      <th>22</th>\n",
       "      <td>2018-19</td>\n",
       "      <td>98.570677</td>\n",
       "    </tr>\n",
       "    <tr>\n",
       "      <th>23</th>\n",
       "      <td>2019-20</td>\n",
       "      <td>98.531501</td>\n",
       "    </tr>\n",
       "    <tr>\n",
       "      <th>24</th>\n",
       "      <td>2020-21</td>\n",
       "      <td>98.240467</td>\n",
       "    </tr>\n",
       "    <tr>\n",
       "      <th>25</th>\n",
       "      <td>2021-22</td>\n",
       "      <td>97.336345</td>\n",
       "    </tr>\n",
       "  </tbody>\n",
       "</table>\n",
       "</div>"
      ],
      "text/plain": [
       "     season  player_weight\n",
       "0   1996-97     100.526270\n",
       "1   1997-98     100.265530\n",
       "2   1998-99     100.639563\n",
       "3   1999-00     100.735741\n",
       "4   2000-01     100.842450\n",
       "5   2001-02     101.288124\n",
       "6   2002-03     102.032765\n",
       "7   2003-04     101.635395\n",
       "8   2004-05     101.697477\n",
       "9   2005-06     101.340178\n",
       "10  2006-07     101.329284\n",
       "11  2007-08     100.941821\n",
       "12  2008-09     101.393611\n",
       "13  2009-10     101.140341\n",
       "14  2010-11     101.634022\n",
       "15  2011-12     101.055087\n",
       "16  2012-13     100.872778\n",
       "17  2013-14     100.549591\n",
       "18  2014-15     100.438213\n",
       "19  2015-16     100.414022\n",
       "20  2016-17      99.830930\n",
       "21  2017-18      98.811657\n",
       "22  2018-19      98.570677\n",
       "23  2019-20      98.531501\n",
       "24  2020-21      98.240467\n",
       "25  2021-22      97.336345"
      ]
     },
     "execution_count": 14,
     "metadata": {},
     "output_type": "execute_result"
    }
   ],
   "source": [
    "weight_data"
   ]
  },
  {
   "cell_type": "code",
   "execution_count": 15,
   "id": "45defe0b",
   "metadata": {
    "execution": {
     "iopub.execute_input": "2023-06-25T11:57:02.106640Z",
     "iopub.status.busy": "2023-06-25T11:57:02.106193Z",
     "iopub.status.idle": "2023-06-25T11:57:02.581211Z",
     "shell.execute_reply": "2023-06-25T11:57:02.580348Z"
    },
    "papermill": {
     "duration": 0.492773,
     "end_time": "2023-06-25T11:57:02.583493",
     "exception": false,
     "start_time": "2023-06-25T11:57:02.090720",
     "status": "completed"
    },
    "tags": []
   },
   "outputs": [
    {
     "data": {
      "image/png": "[encoded data removed]",
      "text/plain": [
       "<Figure size 1000x800 with 1 Axes>"
      ]
     },
     "metadata": {},
     "output_type": "display_data"
    }
   ],
   "source": [
    "plt.figure(figsize = (10,8) , dpi = 100)\n",
    "sns.scatterplot(data = weight_data , x = 'season' , y = 'player_weight')\n",
    "plt.xticks(rotation = 90);"
   ]
  },
  {
   "cell_type": "markdown",
   "id": "fa58340f",
   "metadata": {
    "papermill": {
     "duration": 0.014583,
     "end_time": "2023-06-25T11:57:02.612820",
     "exception": false,
     "start_time": "2023-06-25T11:57:02.598237",
     "status": "completed"
    },
    "tags": []
   },
   "source": [
    "****the insight from top graph is the avg weight is also decreasing year by year****"
   ]
  },
  {
   "cell_type": "code",
   "execution_count": 16,
   "id": "3e9130d3",
   "metadata": {
    "execution": {
     "iopub.execute_input": "2023-06-25T11:57:02.644524Z",
     "iopub.status.busy": "2023-06-25T11:57:02.644064Z",
     "iopub.status.idle": "2023-06-25T11:57:02.674933Z",
     "shell.execute_reply": "2023-06-25T11:57:02.673807Z"
    },
    "papermill": {
     "duration": 0.049776,
     "end_time": "2023-06-25T11:57:02.677544",
     "exception": false,
     "start_time": "2023-06-25T11:57:02.627768",
     "status": "completed"
    },
    "tags": []
   },
   "outputs": [
    {
     "data": {
      "text/html": [
       "<div>\n",
       "<style scoped>\n",
       "    .dataframe tbody tr th:only-of-type {\n",
       "        vertical-align: middle;\n",
       "    }\n",
       "\n",
       "    .dataframe tbody tr th {\n",
       "        vertical-align: top;\n",
       "    }\n",
       "\n",
       "    .dataframe thead th {\n",
       "        text-align: right;\n",
       "    }\n",
       "</style>\n",
       "<table border=\"1\" class=\"dataframe\">\n",
       "  <thead>\n",
       "    <tr style=\"text-align: right;\">\n",
       "      <th></th>\n",
       "      <th>player_name</th>\n",
       "      <th>team_abbreviation</th>\n",
       "      <th>age</th>\n",
       "      <th>player_height</th>\n",
       "      <th>player_weight</th>\n",
       "      <th>college</th>\n",
       "      <th>country</th>\n",
       "      <th>draft_year</th>\n",
       "      <th>draft_round</th>\n",
       "      <th>draft_number</th>\n",
       "      <th>...</th>\n",
       "      <th>pts</th>\n",
       "      <th>reb</th>\n",
       "      <th>ast</th>\n",
       "      <th>net_rating</th>\n",
       "      <th>oreb_pct</th>\n",
       "      <th>dreb_pct</th>\n",
       "      <th>usg_pct</th>\n",
       "      <th>ts_pct</th>\n",
       "      <th>ast_pct</th>\n",
       "      <th>season</th>\n",
       "    </tr>\n",
       "  </thead>\n",
       "  <tbody>\n",
       "    <tr>\n",
       "      <th>0</th>\n",
       "      <td>Dennis Rodman</td>\n",
       "      <td>CHI</td>\n",
       "      <td>36.0</td>\n",
       "      <td>198.12</td>\n",
       "      <td>99.790240</td>\n",
       "      <td>Southeastern Oklahoma State</td>\n",
       "      <td>USA</td>\n",
       "      <td>1986</td>\n",
       "      <td>2</td>\n",
       "      <td>27</td>\n",
       "      <td>...</td>\n",
       "      <td>5.7</td>\n",
       "      <td>16.1</td>\n",
       "      <td>3.1</td>\n",
       "      <td>16.1</td>\n",
       "      <td>0.186</td>\n",
       "      <td>0.323</td>\n",
       "      <td>0.100</td>\n",
       "      <td>0.479</td>\n",
       "      <td>0.113</td>\n",
       "      <td>1996-97</td>\n",
       "    </tr>\n",
       "    <tr>\n",
       "      <th>1</th>\n",
       "      <td>Dwayne Schintzius</td>\n",
       "      <td>LAC</td>\n",
       "      <td>28.0</td>\n",
       "      <td>215.90</td>\n",
       "      <td>117.933920</td>\n",
       "      <td>Florida</td>\n",
       "      <td>USA</td>\n",
       "      <td>1990</td>\n",
       "      <td>1</td>\n",
       "      <td>24</td>\n",
       "      <td>...</td>\n",
       "      <td>2.3</td>\n",
       "      <td>1.5</td>\n",
       "      <td>0.3</td>\n",
       "      <td>12.3</td>\n",
       "      <td>0.078</td>\n",
       "      <td>0.151</td>\n",
       "      <td>0.175</td>\n",
       "      <td>0.430</td>\n",
       "      <td>0.048</td>\n",
       "      <td>1996-97</td>\n",
       "    </tr>\n",
       "    <tr>\n",
       "      <th>2</th>\n",
       "      <td>Earl Cureton</td>\n",
       "      <td>TOR</td>\n",
       "      <td>39.0</td>\n",
       "      <td>205.74</td>\n",
       "      <td>95.254320</td>\n",
       "      <td>Detroit Mercy</td>\n",
       "      <td>USA</td>\n",
       "      <td>1979</td>\n",
       "      <td>3</td>\n",
       "      <td>58</td>\n",
       "      <td>...</td>\n",
       "      <td>0.8</td>\n",
       "      <td>1.0</td>\n",
       "      <td>0.4</td>\n",
       "      <td>-2.1</td>\n",
       "      <td>0.105</td>\n",
       "      <td>0.102</td>\n",
       "      <td>0.103</td>\n",
       "      <td>0.376</td>\n",
       "      <td>0.148</td>\n",
       "      <td>1996-97</td>\n",
       "    </tr>\n",
       "    <tr>\n",
       "      <th>3</th>\n",
       "      <td>Ed O'Bannon</td>\n",
       "      <td>DAL</td>\n",
       "      <td>24.0</td>\n",
       "      <td>203.20</td>\n",
       "      <td>100.697424</td>\n",
       "      <td>UCLA</td>\n",
       "      <td>USA</td>\n",
       "      <td>1995</td>\n",
       "      <td>1</td>\n",
       "      <td>9</td>\n",
       "      <td>...</td>\n",
       "      <td>3.7</td>\n",
       "      <td>2.3</td>\n",
       "      <td>0.6</td>\n",
       "      <td>-8.7</td>\n",
       "      <td>0.060</td>\n",
       "      <td>0.149</td>\n",
       "      <td>0.167</td>\n",
       "      <td>0.399</td>\n",
       "      <td>0.077</td>\n",
       "      <td>1996-97</td>\n",
       "    </tr>\n",
       "    <tr>\n",
       "      <th>4</th>\n",
       "      <td>Ed Pinckney</td>\n",
       "      <td>MIA</td>\n",
       "      <td>34.0</td>\n",
       "      <td>205.74</td>\n",
       "      <td>108.862080</td>\n",
       "      <td>Villanova</td>\n",
       "      <td>USA</td>\n",
       "      <td>1985</td>\n",
       "      <td>1</td>\n",
       "      <td>10</td>\n",
       "      <td>...</td>\n",
       "      <td>2.4</td>\n",
       "      <td>2.4</td>\n",
       "      <td>0.2</td>\n",
       "      <td>-11.2</td>\n",
       "      <td>0.109</td>\n",
       "      <td>0.179</td>\n",
       "      <td>0.127</td>\n",
       "      <td>0.611</td>\n",
       "      <td>0.040</td>\n",
       "      <td>1996-97</td>\n",
       "    </tr>\n",
       "  </tbody>\n",
       "</table>\n",
       "<p>5 rows × 21 columns</p>\n",
       "</div>"
      ],
      "text/plain": [
       "         player_name team_abbreviation   age  player_height  player_weight  \\\n",
       "0      Dennis Rodman               CHI  36.0         198.12      99.790240   \n",
       "1  Dwayne Schintzius               LAC  28.0         215.90     117.933920   \n",
       "2       Earl Cureton               TOR  39.0         205.74      95.254320   \n",
       "3        Ed O'Bannon               DAL  24.0         203.20     100.697424   \n",
       "4        Ed Pinckney               MIA  34.0         205.74     108.862080   \n",
       "\n",
       "                       college country draft_year draft_round draft_number  \\\n",
       "0  Southeastern Oklahoma State     USA       1986           2           27   \n",
       "1                      Florida     USA       1990           1           24   \n",
       "2                Detroit Mercy     USA       1979           3           58   \n",
       "3                         UCLA     USA       1995           1            9   \n",
       "4                    Villanova     USA       1985           1           10   \n",
       "\n",
       "   ...  pts   reb  ast  net_rating  oreb_pct  dreb_pct  usg_pct  ts_pct  \\\n",
       "0  ...  5.7  16.1  3.1        16.1     0.186     0.323    0.100   0.479   \n",
       "1  ...  2.3   1.5  0.3        12.3     0.078     0.151    0.175   0.430   \n",
       "2  ...  0.8   1.0  0.4        -2.1     0.105     0.102    0.103   0.376   \n",
       "3  ...  3.7   2.3  0.6        -8.7     0.060     0.149    0.167   0.399   \n",
       "4  ...  2.4   2.4  0.2       -11.2     0.109     0.179    0.127   0.611   \n",
       "\n",
       "   ast_pct   season  \n",
       "0    0.113  1996-97  \n",
       "1    0.048  1996-97  \n",
       "2    0.148  1996-97  \n",
       "3    0.077  1996-97  \n",
       "4    0.040  1996-97  \n",
       "\n",
       "[5 rows x 21 columns]"
      ]
     },
     "execution_count": 16,
     "metadata": {},
     "output_type": "execute_result"
    }
   ],
   "source": [
    "df.head()"
   ]
  },
  {
   "cell_type": "markdown",
   "id": "673f4a62",
   "metadata": {
    "papermill": {
     "duration": 0.015033,
     "end_time": "2023-06-25T11:57:02.707976",
     "exception": false,
     "start_time": "2023-06-25T11:57:02.692943",
     "status": "completed"
    },
    "tags": []
   },
   "source": [
    "****now we will see the top 10 rebound player in nba history who takes the ball very early after a missing shot****"
   ]
  },
  {
   "cell_type": "code",
   "execution_count": 17,
   "id": "d3347b82",
   "metadata": {
    "execution": {
     "iopub.execute_input": "2023-06-25T11:57:02.740223Z",
     "iopub.status.busy": "2023-06-25T11:57:02.739494Z",
     "iopub.status.idle": "2023-06-25T11:57:02.752041Z",
     "shell.execute_reply": "2023-06-25T11:57:02.750694Z"
    },
    "papermill": {
     "duration": 0.032012,
     "end_time": "2023-06-25T11:57:02.755120",
     "exception": false,
     "start_time": "2023-06-25T11:57:02.723108",
     "status": "completed"
    },
    "tags": []
   },
   "outputs": [],
   "source": [
    "reb_data  = pd.DataFrame(df.groupby('player_name')['reb'].mean().sort_values(ascending = False).reset_index()[0:10])"
   ]
  },
  {
   "cell_type": "code",
   "execution_count": 18,
   "id": "29d85abc",
   "metadata": {
    "execution": {
     "iopub.execute_input": "2023-06-25T11:57:02.786881Z",
     "iopub.status.busy": "2023-06-25T11:57:02.786465Z",
     "iopub.status.idle": "2023-06-25T11:57:02.797380Z",
     "shell.execute_reply": "2023-06-25T11:57:02.796543Z"
    },
    "papermill": {
     "duration": 0.029152,
     "end_time": "2023-06-25T11:57:02.799409",
     "exception": false,
     "start_time": "2023-06-25T11:57:02.770257",
     "status": "completed"
    },
    "tags": []
   },
   "outputs": [
    {
     "data": {
      "text/html": [
       "<div>\n",
       "<style scoped>\n",
       "    .dataframe tbody tr th:only-of-type {\n",
       "        vertical-align: middle;\n",
       "    }\n",
       "\n",
       "    .dataframe tbody tr th {\n",
       "        vertical-align: top;\n",
       "    }\n",
       "\n",
       "    .dataframe thead th {\n",
       "        text-align: right;\n",
       "    }\n",
       "</style>\n",
       "<table border=\"1\" class=\"dataframe\">\n",
       "  <thead>\n",
       "    <tr style=\"text-align: right;\">\n",
       "      <th></th>\n",
       "      <th>player_name</th>\n",
       "      <th>reb</th>\n",
       "    </tr>\n",
       "  </thead>\n",
       "  <tbody>\n",
       "    <tr>\n",
       "      <th>0</th>\n",
       "      <td>Dennis Rodman</td>\n",
       "      <td>14.150000</td>\n",
       "    </tr>\n",
       "    <tr>\n",
       "      <th>1</th>\n",
       "      <td>Andre Drummond</td>\n",
       "      <td>13.100000</td>\n",
       "    </tr>\n",
       "    <tr>\n",
       "      <th>2</th>\n",
       "      <td>Jayson Williams</td>\n",
       "      <td>13.033333</td>\n",
       "    </tr>\n",
       "    <tr>\n",
       "      <th>3</th>\n",
       "      <td>Charles Barkley</td>\n",
       "      <td>12.000000</td>\n",
       "    </tr>\n",
       "    <tr>\n",
       "      <th>4</th>\n",
       "      <td>Dwight Howard</td>\n",
       "      <td>11.527778</td>\n",
       "    </tr>\n",
       "    <tr>\n",
       "      <th>5</th>\n",
       "      <td>Rudy Gobert</td>\n",
       "      <td>11.333333</td>\n",
       "    </tr>\n",
       "    <tr>\n",
       "      <th>6</th>\n",
       "      <td>Karl-Anthony Towns</td>\n",
       "      <td>11.242857</td>\n",
       "    </tr>\n",
       "    <tr>\n",
       "      <th>7</th>\n",
       "      <td>Joel Embiid</td>\n",
       "      <td>11.050000</td>\n",
       "    </tr>\n",
       "    <tr>\n",
       "      <th>8</th>\n",
       "      <td>Tim Duncan</td>\n",
       "      <td>10.768421</td>\n",
       "    </tr>\n",
       "    <tr>\n",
       "      <th>9</th>\n",
       "      <td>Kevin Love</td>\n",
       "      <td>10.742857</td>\n",
       "    </tr>\n",
       "  </tbody>\n",
       "</table>\n",
       "</div>"
      ],
      "text/plain": [
       "          player_name        reb\n",
       "0       Dennis Rodman  14.150000\n",
       "1      Andre Drummond  13.100000\n",
       "2     Jayson Williams  13.033333\n",
       "3     Charles Barkley  12.000000\n",
       "4       Dwight Howard  11.527778\n",
       "5         Rudy Gobert  11.333333\n",
       "6  Karl-Anthony Towns  11.242857\n",
       "7         Joel Embiid  11.050000\n",
       "8          Tim Duncan  10.768421\n",
       "9          Kevin Love  10.742857"
      ]
     },
     "execution_count": 18,
     "metadata": {},
     "output_type": "execute_result"
    }
   ],
   "source": [
    "reb_data"
   ]
  },
  {
   "cell_type": "code",
   "execution_count": 19,
   "id": "2f1ced46",
   "metadata": {
    "execution": {
     "iopub.execute_input": "2023-06-25T11:57:02.832948Z",
     "iopub.status.busy": "2023-06-25T11:57:02.831783Z",
     "iopub.status.idle": "2023-06-25T11:57:03.162743Z",
     "shell.execute_reply": "2023-06-25T11:57:03.161189Z"
    },
    "papermill": {
     "duration": 0.350345,
     "end_time": "2023-06-25T11:57:03.165517",
     "exception": false,
     "start_time": "2023-06-25T11:57:02.815172",
     "status": "completed"
    },
    "tags": []
   },
   "outputs": [
    {
     "data": {
      "image/png": "[encoded data removed]",
      "text/plain": [
       "<Figure size 1000x800 with 1 Axes>"
      ]
     },
     "metadata": {},
     "output_type": "display_data"
    }
   ],
   "source": [
    "plt.figure(figsize = (10,8) , dpi = 100)\n",
    "sns.barplot(data = reb_data , x = 'player_name' , y = 'reb')\n",
    "plt.xticks(rotation = 90);"
   ]
  },
  {
   "cell_type": "markdown",
   "id": "c7be1e76",
   "metadata": {
    "papermill": {
     "duration": 0.015693,
     "end_time": "2023-06-25T11:57:03.197420",
     "exception": false,
     "start_time": "2023-06-25T11:57:03.181727",
     "status": "completed"
    },
    "tags": []
   },
   "source": [
    "****now we will see the top 10 point gainer****"
   ]
  },
  {
   "cell_type": "code",
   "execution_count": 20,
   "id": "45bfd759",
   "metadata": {
    "execution": {
     "iopub.execute_input": "2023-06-25T11:57:03.233713Z",
     "iopub.status.busy": "2023-06-25T11:57:03.233008Z",
     "iopub.status.idle": "2023-06-25T11:57:03.245535Z",
     "shell.execute_reply": "2023-06-25T11:57:03.244408Z"
    },
    "papermill": {
     "duration": 0.033758,
     "end_time": "2023-06-25T11:57:03.248169",
     "exception": false,
     "start_time": "2023-06-25T11:57:03.214411",
     "status": "completed"
    },
    "tags": []
   },
   "outputs": [],
   "source": [
    "pts_data = pd.DataFrame(df.groupby('player_name')['pts'].mean().sort_values(ascending = False).reset_index())[0:10]"
   ]
  },
  {
   "cell_type": "code",
   "execution_count": 21,
   "id": "122a9d24",
   "metadata": {
    "execution": {
     "iopub.execute_input": "2023-06-25T11:57:03.289041Z",
     "iopub.status.busy": "2023-06-25T11:57:03.288270Z",
     "iopub.status.idle": "2023-06-25T11:57:03.298813Z",
     "shell.execute_reply": "2023-06-25T11:57:03.297947Z"
    },
    "papermill": {
     "duration": 0.036652,
     "end_time": "2023-06-25T11:57:03.301114",
     "exception": false,
     "start_time": "2023-06-25T11:57:03.264462",
     "status": "completed"
    },
    "tags": []
   },
   "outputs": [
    {
     "data": {
      "text/html": [
       "<div>\n",
       "<style scoped>\n",
       "    .dataframe tbody tr th:only-of-type {\n",
       "        vertical-align: middle;\n",
       "    }\n",
       "\n",
       "    .dataframe tbody tr th {\n",
       "        vertical-align: top;\n",
       "    }\n",
       "\n",
       "    .dataframe thead th {\n",
       "        text-align: right;\n",
       "    }\n",
       "</style>\n",
       "<table border=\"1\" class=\"dataframe\">\n",
       "  <thead>\n",
       "    <tr style=\"text-align: right;\">\n",
       "      <th></th>\n",
       "      <th>player_name</th>\n",
       "      <th>pts</th>\n",
       "    </tr>\n",
       "  </thead>\n",
       "  <tbody>\n",
       "    <tr>\n",
       "      <th>0</th>\n",
       "      <td>LeBron James</td>\n",
       "      <td>27.110526</td>\n",
       "    </tr>\n",
       "    <tr>\n",
       "      <th>1</th>\n",
       "      <td>Kevin Durant</td>\n",
       "      <td>27.100000</td>\n",
       "    </tr>\n",
       "    <tr>\n",
       "      <th>2</th>\n",
       "      <td>Luka Doncic</td>\n",
       "      <td>26.525000</td>\n",
       "    </tr>\n",
       "    <tr>\n",
       "      <th>3</th>\n",
       "      <td>Allen Iverson</td>\n",
       "      <td>26.064286</td>\n",
       "    </tr>\n",
       "    <tr>\n",
       "      <th>4</th>\n",
       "      <td>Trae Young</td>\n",
       "      <td>25.600000</td>\n",
       "    </tr>\n",
       "    <tr>\n",
       "      <th>5</th>\n",
       "      <td>Joel Embiid</td>\n",
       "      <td>25.450000</td>\n",
       "    </tr>\n",
       "    <tr>\n",
       "      <th>6</th>\n",
       "      <td>Michael Jordan</td>\n",
       "      <td>25.300000</td>\n",
       "    </tr>\n",
       "    <tr>\n",
       "      <th>7</th>\n",
       "      <td>James Harden</td>\n",
       "      <td>24.853846</td>\n",
       "    </tr>\n",
       "    <tr>\n",
       "      <th>8</th>\n",
       "      <td>Damian Lillard</td>\n",
       "      <td>24.830000</td>\n",
       "    </tr>\n",
       "    <tr>\n",
       "      <th>9</th>\n",
       "      <td>Zion Williamson</td>\n",
       "      <td>24.750000</td>\n",
       "    </tr>\n",
       "  </tbody>\n",
       "</table>\n",
       "</div>"
      ],
      "text/plain": [
       "       player_name        pts\n",
       "0     LeBron James  27.110526\n",
       "1     Kevin Durant  27.100000\n",
       "2      Luka Doncic  26.525000\n",
       "3    Allen Iverson  26.064286\n",
       "4       Trae Young  25.600000\n",
       "5      Joel Embiid  25.450000\n",
       "6   Michael Jordan  25.300000\n",
       "7     James Harden  24.853846\n",
       "8   Damian Lillard  24.830000\n",
       "9  Zion Williamson  24.750000"
      ]
     },
     "execution_count": 21,
     "metadata": {},
     "output_type": "execute_result"
    }
   ],
   "source": [
    "pts_data"
   ]
  },
  {
   "cell_type": "code",
   "execution_count": 22,
   "id": "6a3f7203",
   "metadata": {
    "execution": {
     "iopub.execute_input": "2023-06-25T11:57:03.336305Z",
     "iopub.status.busy": "2023-06-25T11:57:03.335246Z",
     "iopub.status.idle": "2023-06-25T11:57:03.645915Z",
     "shell.execute_reply": "2023-06-25T11:57:03.644746Z"
    },
    "papermill": {
     "duration": 0.331013,
     "end_time": "2023-06-25T11:57:03.648325",
     "exception": false,
     "start_time": "2023-06-25T11:57:03.317312",
     "status": "completed"
    },
    "tags": []
   },
   "outputs": [
    {
     "data": {
      "image/png": "[encoded data removed]",
      "text/plain": [
       "<Figure size 1000x800 with 1 Axes>"
      ]
     },
     "metadata": {},
     "output_type": "display_data"
    }
   ],
   "source": [
    "plt.figure(figsize = (10,8) , dpi = 100)\n",
    "sns.barplot(data = pts_data , x = 'player_name' , y = 'pts')\n",
    "plt.xticks(rotation = 90);"
   ]
  },
  {
   "cell_type": "code",
   "execution_count": 23,
   "id": "c1d2dcee",
   "metadata": {
    "execution": {
     "iopub.execute_input": "2023-06-25T11:57:03.685542Z",
     "iopub.status.busy": "2023-06-25T11:57:03.684557Z",
     "iopub.status.idle": "2023-06-25T11:57:03.715768Z",
     "shell.execute_reply": "2023-06-25T11:57:03.714546Z"
    },
    "papermill": {
     "duration": 0.052174,
     "end_time": "2023-06-25T11:57:03.718189",
     "exception": false,
     "start_time": "2023-06-25T11:57:03.666015",
     "status": "completed"
    },
    "tags": []
   },
   "outputs": [
    {
     "data": {
      "text/html": [
       "<div>\n",
       "<style scoped>\n",
       "    .dataframe tbody tr th:only-of-type {\n",
       "        vertical-align: middle;\n",
       "    }\n",
       "\n",
       "    .dataframe tbody tr th {\n",
       "        vertical-align: top;\n",
       "    }\n",
       "\n",
       "    .dataframe thead th {\n",
       "        text-align: right;\n",
       "    }\n",
       "</style>\n",
       "<table border=\"1\" class=\"dataframe\">\n",
       "  <thead>\n",
       "    <tr style=\"text-align: right;\">\n",
       "      <th></th>\n",
       "      <th>player_name</th>\n",
       "      <th>team_abbreviation</th>\n",
       "      <th>age</th>\n",
       "      <th>player_height</th>\n",
       "      <th>player_weight</th>\n",
       "      <th>college</th>\n",
       "      <th>country</th>\n",
       "      <th>draft_year</th>\n",
       "      <th>draft_round</th>\n",
       "      <th>draft_number</th>\n",
       "      <th>...</th>\n",
       "      <th>pts</th>\n",
       "      <th>reb</th>\n",
       "      <th>ast</th>\n",
       "      <th>net_rating</th>\n",
       "      <th>oreb_pct</th>\n",
       "      <th>dreb_pct</th>\n",
       "      <th>usg_pct</th>\n",
       "      <th>ts_pct</th>\n",
       "      <th>ast_pct</th>\n",
       "      <th>season</th>\n",
       "    </tr>\n",
       "  </thead>\n",
       "  <tbody>\n",
       "    <tr>\n",
       "      <th>0</th>\n",
       "      <td>Dennis Rodman</td>\n",
       "      <td>CHI</td>\n",
       "      <td>36.0</td>\n",
       "      <td>198.12</td>\n",
       "      <td>99.790240</td>\n",
       "      <td>Southeastern Oklahoma State</td>\n",
       "      <td>USA</td>\n",
       "      <td>1986</td>\n",
       "      <td>2</td>\n",
       "      <td>27</td>\n",
       "      <td>...</td>\n",
       "      <td>5.7</td>\n",
       "      <td>16.1</td>\n",
       "      <td>3.1</td>\n",
       "      <td>16.1</td>\n",
       "      <td>0.186</td>\n",
       "      <td>0.323</td>\n",
       "      <td>0.100</td>\n",
       "      <td>0.479</td>\n",
       "      <td>0.113</td>\n",
       "      <td>1996-97</td>\n",
       "    </tr>\n",
       "    <tr>\n",
       "      <th>1</th>\n",
       "      <td>Dwayne Schintzius</td>\n",
       "      <td>LAC</td>\n",
       "      <td>28.0</td>\n",
       "      <td>215.90</td>\n",
       "      <td>117.933920</td>\n",
       "      <td>Florida</td>\n",
       "      <td>USA</td>\n",
       "      <td>1990</td>\n",
       "      <td>1</td>\n",
       "      <td>24</td>\n",
       "      <td>...</td>\n",
       "      <td>2.3</td>\n",
       "      <td>1.5</td>\n",
       "      <td>0.3</td>\n",
       "      <td>12.3</td>\n",
       "      <td>0.078</td>\n",
       "      <td>0.151</td>\n",
       "      <td>0.175</td>\n",
       "      <td>0.430</td>\n",
       "      <td>0.048</td>\n",
       "      <td>1996-97</td>\n",
       "    </tr>\n",
       "    <tr>\n",
       "      <th>2</th>\n",
       "      <td>Earl Cureton</td>\n",
       "      <td>TOR</td>\n",
       "      <td>39.0</td>\n",
       "      <td>205.74</td>\n",
       "      <td>95.254320</td>\n",
       "      <td>Detroit Mercy</td>\n",
       "      <td>USA</td>\n",
       "      <td>1979</td>\n",
       "      <td>3</td>\n",
       "      <td>58</td>\n",
       "      <td>...</td>\n",
       "      <td>0.8</td>\n",
       "      <td>1.0</td>\n",
       "      <td>0.4</td>\n",
       "      <td>-2.1</td>\n",
       "      <td>0.105</td>\n",
       "      <td>0.102</td>\n",
       "      <td>0.103</td>\n",
       "      <td>0.376</td>\n",
       "      <td>0.148</td>\n",
       "      <td>1996-97</td>\n",
       "    </tr>\n",
       "    <tr>\n",
       "      <th>3</th>\n",
       "      <td>Ed O'Bannon</td>\n",
       "      <td>DAL</td>\n",
       "      <td>24.0</td>\n",
       "      <td>203.20</td>\n",
       "      <td>100.697424</td>\n",
       "      <td>UCLA</td>\n",
       "      <td>USA</td>\n",
       "      <td>1995</td>\n",
       "      <td>1</td>\n",
       "      <td>9</td>\n",
       "      <td>...</td>\n",
       "      <td>3.7</td>\n",
       "      <td>2.3</td>\n",
       "      <td>0.6</td>\n",
       "      <td>-8.7</td>\n",
       "      <td>0.060</td>\n",
       "      <td>0.149</td>\n",
       "      <td>0.167</td>\n",
       "      <td>0.399</td>\n",
       "      <td>0.077</td>\n",
       "      <td>1996-97</td>\n",
       "    </tr>\n",
       "    <tr>\n",
       "      <th>4</th>\n",
       "      <td>Ed Pinckney</td>\n",
       "      <td>MIA</td>\n",
       "      <td>34.0</td>\n",
       "      <td>205.74</td>\n",
       "      <td>108.862080</td>\n",
       "      <td>Villanova</td>\n",
       "      <td>USA</td>\n",
       "      <td>1985</td>\n",
       "      <td>1</td>\n",
       "      <td>10</td>\n",
       "      <td>...</td>\n",
       "      <td>2.4</td>\n",
       "      <td>2.4</td>\n",
       "      <td>0.2</td>\n",
       "      <td>-11.2</td>\n",
       "      <td>0.109</td>\n",
       "      <td>0.179</td>\n",
       "      <td>0.127</td>\n",
       "      <td>0.611</td>\n",
       "      <td>0.040</td>\n",
       "      <td>1996-97</td>\n",
       "    </tr>\n",
       "  </tbody>\n",
       "</table>\n",
       "<p>5 rows × 21 columns</p>\n",
       "</div>"
      ],
      "text/plain": [
       "         player_name team_abbreviation   age  player_height  player_weight  \\\n",
       "0      Dennis Rodman               CHI  36.0         198.12      99.790240   \n",
       "1  Dwayne Schintzius               LAC  28.0         215.90     117.933920   \n",
       "2       Earl Cureton               TOR  39.0         205.74      95.254320   \n",
       "3        Ed O'Bannon               DAL  24.0         203.20     100.697424   \n",
       "4        Ed Pinckney               MIA  34.0         205.74     108.862080   \n",
       "\n",
       "                       college country draft_year draft_round draft_number  \\\n",
       "0  Southeastern Oklahoma State     USA       1986           2           27   \n",
       "1                      Florida     USA       1990           1           24   \n",
       "2                Detroit Mercy     USA       1979           3           58   \n",
       "3                         UCLA     USA       1995           1            9   \n",
       "4                    Villanova     USA       1985           1           10   \n",
       "\n",
       "   ...  pts   reb  ast  net_rating  oreb_pct  dreb_pct  usg_pct  ts_pct  \\\n",
       "0  ...  5.7  16.1  3.1        16.1     0.186     0.323    0.100   0.479   \n",
       "1  ...  2.3   1.5  0.3        12.3     0.078     0.151    0.175   0.430   \n",
       "2  ...  0.8   1.0  0.4        -2.1     0.105     0.102    0.103   0.376   \n",
       "3  ...  3.7   2.3  0.6        -8.7     0.060     0.149    0.167   0.399   \n",
       "4  ...  2.4   2.4  0.2       -11.2     0.109     0.179    0.127   0.611   \n",
       "\n",
       "   ast_pct   season  \n",
       "0    0.113  1996-97  \n",
       "1    0.048  1996-97  \n",
       "2    0.148  1996-97  \n",
       "3    0.077  1996-97  \n",
       "4    0.040  1996-97  \n",
       "\n",
       "[5 rows x 21 columns]"
      ]
     },
     "execution_count": 23,
     "metadata": {},
     "output_type": "execute_result"
    }
   ],
   "source": [
    "df.head()"
   ]
  },
  {
   "cell_type": "markdown",
   "id": "198f6be4",
   "metadata": {
    "papermill": {
     "duration": 0.016926,
     "end_time": "2023-06-25T11:57:03.752189",
     "exception": false,
     "start_time": "2023-06-25T11:57:03.735263",
     "status": "completed"
    },
    "tags": []
   },
   "source": [
    "****top 10 player in nba having heighest average assist****"
   ]
  },
  {
   "cell_type": "code",
   "execution_count": 24,
   "id": "f1895dc3",
   "metadata": {
    "execution": {
     "iopub.execute_input": "2023-06-25T11:57:03.789055Z",
     "iopub.status.busy": "2023-06-25T11:57:03.788013Z",
     "iopub.status.idle": "2023-06-25T11:57:03.800837Z",
     "shell.execute_reply": "2023-06-25T11:57:03.799914Z"
    },
    "papermill": {
     "duration": 0.033906,
     "end_time": "2023-06-25T11:57:03.803398",
     "exception": false,
     "start_time": "2023-06-25T11:57:03.769492",
     "status": "completed"
    },
    "tags": []
   },
   "outputs": [],
   "source": [
    "ast_data = pd.DataFrame(df.groupby('player_name')['ast'].mean().sort_values(ascending = False).reset_index())[0:10]"
   ]
  },
  {
   "cell_type": "code",
   "execution_count": 25,
   "id": "3d688547",
   "metadata": {
    "execution": {
     "iopub.execute_input": "2023-06-25T11:57:03.840388Z",
     "iopub.status.busy": "2023-06-25T11:57:03.839599Z",
     "iopub.status.idle": "2023-06-25T11:57:03.851036Z",
     "shell.execute_reply": "2023-06-25T11:57:03.849764Z"
    },
    "papermill": {
     "duration": 0.03259,
     "end_time": "2023-06-25T11:57:03.853379",
     "exception": false,
     "start_time": "2023-06-25T11:57:03.820789",
     "status": "completed"
    },
    "tags": []
   },
   "outputs": [
    {
     "data": {
      "text/html": [
       "<div>\n",
       "<style scoped>\n",
       "    .dataframe tbody tr th:only-of-type {\n",
       "        vertical-align: middle;\n",
       "    }\n",
       "\n",
       "    .dataframe tbody tr th {\n",
       "        vertical-align: top;\n",
       "    }\n",
       "\n",
       "    .dataframe thead th {\n",
       "        text-align: right;\n",
       "    }\n",
       "</style>\n",
       "<table border=\"1\" class=\"dataframe\">\n",
       "  <thead>\n",
       "    <tr style=\"text-align: right;\">\n",
       "      <th></th>\n",
       "      <th>player_name</th>\n",
       "      <th>ast</th>\n",
       "    </tr>\n",
       "  </thead>\n",
       "  <tbody>\n",
       "    <tr>\n",
       "      <th>0</th>\n",
       "      <td>Chris Paul</td>\n",
       "      <td>9.482353</td>\n",
       "    </tr>\n",
       "    <tr>\n",
       "      <th>1</th>\n",
       "      <td>Trae Young</td>\n",
       "      <td>9.125000</td>\n",
       "    </tr>\n",
       "    <tr>\n",
       "      <th>2</th>\n",
       "      <td>John Wall</td>\n",
       "      <td>8.880000</td>\n",
       "    </tr>\n",
       "    <tr>\n",
       "      <th>3</th>\n",
       "      <td>Jason Kidd</td>\n",
       "      <td>8.682353</td>\n",
       "    </tr>\n",
       "    <tr>\n",
       "      <th>4</th>\n",
       "      <td>John Stockton</td>\n",
       "      <td>8.528571</td>\n",
       "    </tr>\n",
       "    <tr>\n",
       "      <th>5</th>\n",
       "      <td>Russell Westbrook</td>\n",
       "      <td>8.392857</td>\n",
       "    </tr>\n",
       "    <tr>\n",
       "      <th>6</th>\n",
       "      <td>Steve Nash</td>\n",
       "      <td>8.161111</td>\n",
       "    </tr>\n",
       "    <tr>\n",
       "      <th>7</th>\n",
       "      <td>Deron Williams</td>\n",
       "      <td>8.025000</td>\n",
       "    </tr>\n",
       "    <tr>\n",
       "      <th>8</th>\n",
       "      <td>Luka Doncic</td>\n",
       "      <td>8.025000</td>\n",
       "    </tr>\n",
       "    <tr>\n",
       "      <th>9</th>\n",
       "      <td>Rajon Rondo</td>\n",
       "      <td>7.937500</td>\n",
       "    </tr>\n",
       "  </tbody>\n",
       "</table>\n",
       "</div>"
      ],
      "text/plain": [
       "         player_name       ast\n",
       "0         Chris Paul  9.482353\n",
       "1         Trae Young  9.125000\n",
       "2          John Wall  8.880000\n",
       "3         Jason Kidd  8.682353\n",
       "4      John Stockton  8.528571\n",
       "5  Russell Westbrook  8.392857\n",
       "6         Steve Nash  8.161111\n",
       "7     Deron Williams  8.025000\n",
       "8        Luka Doncic  8.025000\n",
       "9        Rajon Rondo  7.937500"
      ]
     },
     "execution_count": 25,
     "metadata": {},
     "output_type": "execute_result"
    }
   ],
   "source": [
    "ast_data"
   ]
  },
  {
   "cell_type": "code",
   "execution_count": 26,
   "id": "8185fede",
   "metadata": {
    "execution": {
     "iopub.execute_input": "2023-06-25T11:57:03.890296Z",
     "iopub.status.busy": "2023-06-25T11:57:03.889653Z",
     "iopub.status.idle": "2023-06-25T11:57:04.188257Z",
     "shell.execute_reply": "2023-06-25T11:57:04.187080Z"
    },
    "papermill": {
     "duration": 0.32039,
     "end_time": "2023-06-25T11:57:04.191174",
     "exception": false,
     "start_time": "2023-06-25T11:57:03.870784",
     "status": "completed"
    },
    "tags": []
   },
   "outputs": [
    {
     "data": {
      "image/png": "[encoded data removed]",
      "text/plain": [
       "<Figure size 1000x800 with 1 Axes>"
      ]
     },
     "metadata": {},
     "output_type": "display_data"
    }
   ],
   "source": [
    "plt.figure(figsize = (10,8), dpi= 100)\n",
    "sns.barplot(data = ast_data , x = 'player_name' , y = 'ast')\n",
    "plt.xticks(rotation = 90);"
   ]
  },
  {
   "cell_type": "code",
   "execution_count": 27,
   "id": "78b2c19b",
   "metadata": {
    "execution": {
     "iopub.execute_input": "2023-06-25T11:57:04.231777Z",
     "iopub.status.busy": "2023-06-25T11:57:04.231355Z",
     "iopub.status.idle": "2023-06-25T11:57:04.238817Z",
     "shell.execute_reply": "2023-06-25T11:57:04.237446Z"
    },
    "papermill": {
     "duration": 0.031442,
     "end_time": "2023-06-25T11:57:04.241591",
     "exception": false,
     "start_time": "2023-06-25T11:57:04.210149",
     "status": "completed"
    },
    "tags": []
   },
   "outputs": [
    {
     "data": {
      "text/plain": [
       "Index(['player_name', 'team_abbreviation', 'age', 'player_height',\n",
       "       'player_weight', 'college', 'country', 'draft_year', 'draft_round',\n",
       "       'draft_number', 'gp', 'pts', 'reb', 'ast', 'net_rating', 'oreb_pct',\n",
       "       'dreb_pct', 'usg_pct', 'ts_pct', 'ast_pct', 'season'],\n",
       "      dtype='object')"
      ]
     },
     "execution_count": 27,
     "metadata": {},
     "output_type": "execute_result"
    }
   ],
   "source": [
    "df.columns"
   ]
  },
  {
   "cell_type": "markdown",
   "id": "96309175",
   "metadata": {
    "papermill": {
     "duration": 0.017771,
     "end_time": "2023-06-25T11:57:04.277641",
     "exception": false,
     "start_time": "2023-06-25T11:57:04.259870",
     "status": "completed"
    },
    "tags": []
   },
   "source": [
    "****now we will see top 10 most played individuals in nba****"
   ]
  },
  {
   "cell_type": "code",
   "execution_count": 28,
   "id": "b1d3ba26",
   "metadata": {
    "execution": {
     "iopub.execute_input": "2023-06-25T11:57:04.318918Z",
     "iopub.status.busy": "2023-06-25T11:57:04.318514Z",
     "iopub.status.idle": "2023-06-25T11:57:04.330503Z",
     "shell.execute_reply": "2023-06-25T11:57:04.329461Z"
    },
    "papermill": {
     "duration": 0.036557,
     "end_time": "2023-06-25T11:57:04.333516",
     "exception": false,
     "start_time": "2023-06-25T11:57:04.296959",
     "status": "completed"
    },
    "tags": []
   },
   "outputs": [],
   "source": [
    "gp_data = pd.DataFrame(df.groupby('player_name')['gp'].count().sort_values(ascending = False).reset_index())[0:10]"
   ]
  },
  {
   "cell_type": "code",
   "execution_count": 29,
   "id": "9924d240",
   "metadata": {
    "execution": {
     "iopub.execute_input": "2023-06-25T11:57:04.374836Z",
     "iopub.status.busy": "2023-06-25T11:57:04.374270Z",
     "iopub.status.idle": "2023-06-25T11:57:04.391429Z",
     "shell.execute_reply": "2023-06-25T11:57:04.390396Z"
    },
    "papermill": {
     "duration": 0.041609,
     "end_time": "2023-06-25T11:57:04.393803",
     "exception": false,
     "start_time": "2023-06-25T11:57:04.352194",
     "status": "completed"
    },
    "tags": []
   },
   "outputs": [
    {
     "data": {
      "text/html": [
       "<div>\n",
       "<style scoped>\n",
       "    .dataframe tbody tr th:only-of-type {\n",
       "        vertical-align: middle;\n",
       "    }\n",
       "\n",
       "    .dataframe tbody tr th {\n",
       "        vertical-align: top;\n",
       "    }\n",
       "\n",
       "    .dataframe thead th {\n",
       "        text-align: right;\n",
       "    }\n",
       "</style>\n",
       "<table border=\"1\" class=\"dataframe\">\n",
       "  <thead>\n",
       "    <tr style=\"text-align: right;\">\n",
       "      <th></th>\n",
       "      <th>player_name</th>\n",
       "      <th>gp</th>\n",
       "    </tr>\n",
       "  </thead>\n",
       "  <tbody>\n",
       "    <tr>\n",
       "      <th>0</th>\n",
       "      <td>Vince Carter</td>\n",
       "      <td>22</td>\n",
       "    </tr>\n",
       "    <tr>\n",
       "      <th>1</th>\n",
       "      <td>Dirk Nowitzki</td>\n",
       "      <td>21</td>\n",
       "    </tr>\n",
       "    <tr>\n",
       "      <th>2</th>\n",
       "      <td>Jamal Crawford</td>\n",
       "      <td>20</td>\n",
       "    </tr>\n",
       "    <tr>\n",
       "      <th>3</th>\n",
       "      <td>Kevin Garnett</td>\n",
       "      <td>20</td>\n",
       "    </tr>\n",
       "    <tr>\n",
       "      <th>4</th>\n",
       "      <td>Kobe Bryant</td>\n",
       "      <td>20</td>\n",
       "    </tr>\n",
       "    <tr>\n",
       "      <th>5</th>\n",
       "      <td>Tyson Chandler</td>\n",
       "      <td>19</td>\n",
       "    </tr>\n",
       "    <tr>\n",
       "      <th>6</th>\n",
       "      <td>Paul Pierce</td>\n",
       "      <td>19</td>\n",
       "    </tr>\n",
       "    <tr>\n",
       "      <th>7</th>\n",
       "      <td>LeBron James</td>\n",
       "      <td>19</td>\n",
       "    </tr>\n",
       "    <tr>\n",
       "      <th>8</th>\n",
       "      <td>Carmelo Anthony</td>\n",
       "      <td>19</td>\n",
       "    </tr>\n",
       "    <tr>\n",
       "      <th>9</th>\n",
       "      <td>Tim Duncan</td>\n",
       "      <td>19</td>\n",
       "    </tr>\n",
       "  </tbody>\n",
       "</table>\n",
       "</div>"
      ],
      "text/plain": [
       "       player_name  gp\n",
       "0     Vince Carter  22\n",
       "1    Dirk Nowitzki  21\n",
       "2   Jamal Crawford  20\n",
       "3    Kevin Garnett  20\n",
       "4      Kobe Bryant  20\n",
       "5   Tyson Chandler  19\n",
       "6      Paul Pierce  19\n",
       "7     LeBron James  19\n",
       "8  Carmelo Anthony  19\n",
       "9       Tim Duncan  19"
      ]
     },
     "execution_count": 29,
     "metadata": {},
     "output_type": "execute_result"
    }
   ],
   "source": [
    "gp_data"
   ]
  },
  {
   "cell_type": "code",
   "execution_count": 30,
   "id": "ed9bb15a",
   "metadata": {
    "execution": {
     "iopub.execute_input": "2023-06-25T11:57:04.448319Z",
     "iopub.status.busy": "2023-06-25T11:57:04.447101Z",
     "iopub.status.idle": "2023-06-25T11:57:04.757297Z",
     "shell.execute_reply": "2023-06-25T11:57:04.755858Z"
    },
    "papermill": {
     "duration": 0.337801,
     "end_time": "2023-06-25T11:57:04.759909",
     "exception": false,
     "start_time": "2023-06-25T11:57:04.422108",
     "status": "completed"
    },
    "tags": []
   },
   "outputs": [
    {
     "data": {
      "image/png": "[encoded data removed]",
      "text/plain": [
       "<Figure size 1000x800 with 1 Axes>"
      ]
     },
     "metadata": {},
     "output_type": "display_data"
    }
   ],
   "source": [
    "plt.figure(figsize = (10,8) , dpi = 100)\n",
    "sns.barplot(data = gp_data , x = 'player_name' , y = 'gp')\n",
    "plt.xticks(rotation = 90);"
   ]
  }
 ],
 "metadata": {
  "kernelspec": {
   "display_name": "Python 3",
   "language": "python",
   "name": "python3"
  },
  "language_info": {
   "codemirror_mode": {
    "name": "ipython",
    "version": 3
   },
   "file_extension": ".py",
   "mimetype": "text/x-python",
   "name": "python",
   "nbconvert_exporter": "python",
   "pygments_lexer": "ipython3",
   "version": "3.10.10"
  },
  "papermill": {
   "default_parameters": {},
   "duration": 19.808835,
   "end_time": "2023-06-25T11:57:05.801471",
   "environment_variables": {},
   "exception": null,
   "input_path": "__notebook__.ipynb",
   "output_path": "__notebook__.ipynb",
   "parameters": {},
   "start_time": "2023-06-25T11:56:45.992636",
   "version": "2.4.0"
  }
 },
 "nbformat": 4,
 "nbformat_minor": 5
}
